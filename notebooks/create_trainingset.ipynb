{
 "cells": [
  {
   "cell_type": "markdown",
   "id": "73db40af",
   "metadata": {},
   "source": [
    "# Create stratified training sets\n",
    "\n",
    "The goal of this notebook is to create a stratified training set. Also used for filtering of scenarios."
   ]
  },
  {
   "cell_type": "code",
   "execution_count": 1,
   "id": "eab9507f",
   "metadata": {},
   "outputs": [
    {
     "name": "stderr",
     "output_type": "stream",
     "text": [
      "\u001b[32m\u001b[1m  Activating\u001b[22m\u001b[39m project at `/mnt/NGI_disks/ebr/P/2022/01/20220127/Calculations/AP3/models/tsunami-inundation-emulator`\n"
     ]
    }
   ],
   "source": [
    "cd(\"..\")\n",
    "\n",
    "using Pkg\n",
    "Pkg.activate(\".\")"
   ]
  },
  {
   "cell_type": "code",
   "execution_count": 2,
   "id": "ced37f2f",
   "metadata": {},
   "outputs": [],
   "source": [
    "using Plots, DelimitedFiles, Distributed, Dates, DataFrames, Distributions, StatsPlots, StatsBase, CSV, Random\n",
    "theme(:ggplot2)"
   ]
  },
  {
   "cell_type": "markdown",
   "id": "0752581c",
   "metadata": {},
   "source": [
    "# Calculate statistics.\n",
    "\n",
    "First part of this notebook is used to calculate basic statistical features associated with scenarios (in a generated textfile)."
   ]
  },
  {
   "cell_type": "code",
   "execution_count": 3,
   "id": "f71f25fd",
   "metadata": {},
   "outputs": [
    {
     "data": {
      "text/plain": [
       "\"/mnt/NGI_disks/ebr/P/2022/01/20220127/Calculations/AP3/models/tsunami-inundation-emulator\""
      ]
     },
     "execution_count": 3,
     "metadata": {},
     "output_type": "execute_result"
    }
   ],
   "source": [
    "pwd()"
   ]
  },
  {
   "cell_type": "code",
   "execution_count": 4,
   "id": "b8193971",
   "metadata": {},
   "outputs": [],
   "source": [
    "# Add process for dataloading.\n",
    "addprocs(3; exeflags=\"--project\")\n",
    "@everywhere include(\"scripts/datareader.jl\")"
   ]
  },
  {
   "cell_type": "code",
   "execution_count": 5,
   "id": "66c6bef8",
   "metadata": {},
   "outputs": [
    {
     "data": {
      "text/plain": [
       "Dict{String, Any} with 5 entries:\n",
       "  \"grid_file\"  => \"/data_large/grids/Catania/C_CT.grd\"\n",
       "  \"batch_size\" => 100\n",
       "  \"ct_slice\"   => (1:912, 1:2224)\n",
       "  \"data_dir\"   => \"/data_large/stg/UMA_download/\"\n",
       "  \"ts_slice\"   => (30:45, 1:480)"
      ]
     },
     "execution_count": 5,
     "metadata": {},
     "output_type": "execute_result"
    }
   ],
   "source": [
    "data_dir = \"/data_large/stg/UMA_download/\";\n",
    "#train_data = \"data/train_test_1000_strat/train_test.txt\";\n",
    "grid_file = \"/data_large/grids/Catania/C_CT.grd\";\n",
    "batch_size = 100;\n",
    "ct_slice = (1:912,1:2224)\n",
    "ts_slice = 30:45,1:480 # gauge number, time\n",
    "\n",
    "config = Dict(\n",
    "    \"data_dir\" => data_dir,\n",
    "    #\"scenarios_file\" => train_data,\n",
    "    \"grid_file\" => grid_file,\n",
    "    \"batch_size\" => batch_size,\n",
    "    \"ct_slice\" => ct_slice,\n",
    "    \"ts_slice\" => ts_slice,\n",
    ")"
   ]
  },
  {
   "cell_type": "code",
   "execution_count": 7,
   "id": "2a03be4f",
   "metadata": {},
   "outputs": [
    {
     "name": "stderr",
     "output_type": "stream",
     "text": [
      "\u001b[36m\u001b[1m[ \u001b[22m\u001b[39m\u001b[36m\u001b[1mInfo: \u001b[22m\u001b[39mReads epoch: 1\n",
      "\u001b[36m\u001b[1m[ \u001b[22m\u001b[39m\u001b[36m\u001b[1mInfo: \u001b[22m\u001b[39mLoad batches with scenarios.\n"
     ]
    },
    {
     "name": "stdout",
     "output_type": "stream",
     "text": [
      "      From worker 2:\t\u001b[90m    @ \u001b[39m\u001b[35mDistributed\u001b[39m \u001b[90m./\u001b[39m\u001b[90m\u001b[4mtask.jl:429\u001b[24m\u001b[39m\u001b[36m\u001b[1m[ \u001b[22m\u001b[39m\u001b[36m\u001b[1mInfo: \u001b[22m\u001b[39mload_batches\n",
      "      From worker 3:\t\u001b[36m\u001b[1m[ \u001b[22m\u001b[39m\u001b[36m\u001b[1mInfo: \u001b[22m\u001b[39mload_batches\n",
      "      From worker 4:\t\u001b[36m\u001b[1m[ \u001b[22m\u001b[39m\u001b[36m\u001b[1mInfo: \u001b[22m\u001b[39mload_batches\n"
     ]
    }
   ],
   "source": [
    "@everywhere begin\n",
    "    reader = DataReader.Reader($config)\n",
    "end\n",
    "\n",
    "scenarios = DataReader.scenarios(\"article_data/all_UMABS_shuf.txt\")\n",
    "\n",
    "@info \"Load batches with scenarios.\"\n",
    "batches = RemoteChannel(()->Channel(4))\n",
    "\n",
    "for worker in workers()\n",
    "    remote_do(reader, worker, scenarios, batches)\n",
    "end"
   ]
  },
  {
   "cell_type": "code",
   "execution_count": 29,
   "id": "f7d0b328",
   "metadata": {},
   "outputs": [
    {
     "name": "stdout",
     "output_type": "stream",
     "text": [
      "15000\n",
      "14900\n",
      "14800\n",
      "14700\n",
      "14600\n",
      "14500\n",
      "14400\n",
      "14300\n",
      "14200\n",
      "14100\n",
      "14000\n",
      "13900\n",
      "13800\n",
      "13700\n",
      "13600\n",
      "13500\n",
      "13400\n",
      "13300\n",
      "13200\n",
      "13100\n",
      "13000\n",
      "12900\n",
      "12800\n",
      "12700\n",
      "12600\n",
      "12500\n",
      "12400\n",
      "12300\n",
      "12200\n",
      "12100\n",
      "12000\n",
      "11900\n",
      "11800\n",
      "11700\n",
      "11600\n",
      "11500\n",
      "11400\n",
      "11300\n",
      "11200\n",
      "11100\n",
      "11000\n",
      "10900\n",
      "10800\n",
      "10700\n",
      "10600\n",
      "10500\n",
      "10400\n",
      "10300\n",
      "10200\n",
      "10100\n",
      "10000\n",
      "9900\n",
      "9800\n",
      "9700\n",
      "9600\n",
      "9500\n",
      "9400\n",
      "9300\n",
      "9200\n",
      "9100\n",
      "9000\n",
      "8900\n",
      "8800\n",
      "8700\n",
      "8600\n",
      "8500\n",
      "8400\n",
      "8300\n",
      "8200\n",
      "8100\n",
      "8000\n",
      "7900\n",
      "7800\n",
      "7700\n",
      "7600\n",
      "7500\n",
      "7400\n",
      "7300\n",
      "7200\n",
      "7100\n",
      "7000\n",
      "6900\n",
      "6800\n",
      "6700\n",
      "6600\n",
      "6500\n",
      "6400\n",
      "6300\n",
      "6200\n",
      "6100\n",
      "6000\n",
      "5900\n",
      "5800\n",
      "5700\n",
      "5600\n",
      "5500\n",
      "5400\n",
      "5300\n",
      "5200\n",
      "5100\n",
      "5000\n",
      "4900\n",
      "4800\n",
      "4700\n",
      "4600\n",
      "4500\n",
      "4400\n",
      "4300\n",
      "4200\n",
      "4100\n",
      "4000\n",
      "3900\n",
      "3800\n",
      "3700\n",
      "3600\n",
      "3500\n",
      "3400\n",
      "3300\n",
      "3200\n",
      "3100\n",
      "3000\n",
      "2900\n",
      "2800\n",
      "2700\n",
      "2600\n",
      "2500\n",
      "2400\n",
      "2300\n",
      "2200\n",
      "2100\n",
      "2000\n",
      "1900\n",
      "1800\n",
      "1700\n",
      "1600\n",
      "1500\n",
      "1400\n",
      "1300\n",
      "1200\n",
      "1100\n",
      "1000\n",
      "900\n",
      "800\n",
      "700\n",
      "600\n",
      "500\n"
     ]
    },
    {
     "name": "stderr",
     "output_type": "stream",
     "text": [
      "\u001b[36m\u001b[1m[ \u001b[22m\u001b[39m\u001b[36m\u001b[1mInfo: \u001b[22m\u001b[39mReads epoch: 2\n"
     ]
    },
    {
     "name": "stdout",
     "output_type": "stream",
     "text": [
      "400\n",
      "300\n",
      "200\n",
      "100\n"
     ]
    }
   ],
   "source": [
    "mask = falses(length(ct_slice[1]), length(ct_slice[2]))\n",
    "df = DataFrame(\n",
    "    scenario = String[], \n",
    "    max_flow_depth = Float32[], \n",
    "    inundated_pixels = Float32[], \n",
    "    max_eta = Float32[], \n",
    "    max_deformation = Float32[]\n",
    ")\n",
    "\n",
    "nr_of_scenarios_left = 15000\n",
    "#df = DataFrame()\n",
    "while nr_of_scenarios_left > 0\n",
    "    println(nr_of_scenarios_left)\n",
    "    batch = take!(batches)\n",
    "    \n",
    "    for k in 1:reader.batch_size\n",
    "        mask = mask .| (batch.flow_depths[:,:,1,k] .> 0.)\n",
    "        push!(df,  \n",
    "                (\n",
    "                scenario = batch.scenario_names[k],\n",
    "                max_flow_depth = maximum(batch.flow_depths[:,:,:,k]), \n",
    "                inundated_pixels = count(h->(h>0.001), batch.flow_depths[:,:,:,k]),\n",
    "                max_eta = maximum(abs.(batch.etas[:,:,:,k])),\n",
    "                max_deformation = maximum(abs.(batch.deformed_topographies[:,:,1,k] - reader.topography))\n",
    "                )\n",
    "            )\n",
    "        nr_of_scenarios_left -= 1\n",
    "        if nr_of_scenarios_left == 0\n",
    "            break\n",
    "        end\n",
    "    end\n",
    "end"
   ]
  },
  {
   "cell_type": "code",
   "execution_count": 33,
   "id": "9ef83d6b",
   "metadata": {},
   "outputs": [
    {
     "data": {
      "text/html": [
       "<div class=\"data-frame\"><p>14,733 rows × 5 columns (omitted printing of 4 columns)</p><table class=\"data-frame\"><thead><tr><th></th><th>scenario</th></tr><tr><th></th><th title=\"String\">String</th></tr></thead><tbody><tr><th>1</th><td>9_BS_1474/0478_E01522N3585E03578N2685-BS-M774_E02353N3310_D010_S202D50R090_A003139_S050</td></tr><tr><th>2</th><td>4_BS_1474/0161_E01108N3882E01527N3690-BS-M774_E01506N3760_D010_S247D30R270_A005608_S028</td></tr><tr><th>3</th><td>3_BS_1474/1142_E01446N4259E02038N3783-BS-M774_E02009N3850_D107_S337D50R270_A003139_S050</td></tr><tr><th>4</th><td>4_BS_1474/0751_E01108N3882E01527N3690-BS-M754_E01509N3782_D010_S067D30R270_A003524_S022</td></tr><tr><th>5</th><td>10_BS_1469/0475_E01267N3753E01646N3535-BS-M809_E01491N3670_D010_S022D50R090_A006995_S075</td></tr><tr><th>6</th><td>5_BS_1474/0701_E01108N3882E01527N3690-BS-M774_E01477N3760_D010_S247D30R270_A005608_S028</td></tr><tr><th>7</th><td>3_BS_1474/0101_E01964N3926E02184N3685-BS-M707_E02022N3782_D010_S337D50R090_A001194_S013</td></tr><tr><th>8</th><td>7_BS_1474/0127_E01267N3753E01646N3535-BS-M732_E01523N3692_D076_S202D50R270_A001180_S030</td></tr><tr><th>9</th><td>BS_1474/0288_E01267N3753E01646N3535-BS-M732_E01495N3692_D076_S067D50R090_A001180_S030</td></tr><tr><th>10</th><td>BS_1474/0765_E01267N3753E01646N3535-BS-M754_E01495N3692_D010_S022D30R270_A001972_S039</td></tr><tr><th>11</th><td>7_BS_1474/0174_E01446N4259E02038N3783-BS-M707_E01980N3850_D062_S337D50R270_A000668_S023</td></tr><tr><th>12</th><td>5_BS_1474/0295_E01267N3753E01646N3535-BS-M754_E01495N3692_D172_S247D10R270_A001972_S039</td></tr><tr><th>13</th><td>BS_1474/0201_E01267N3753E01646N3535-BS-M650_E01551N3692_D010_S202D30R090_A000178_S012</td></tr><tr><th>14</th><td>2_BS_1474/0410_E01267N3753E01646N3535-BS-M774_E01575N3670_D107_S022D50R270_A003139_S050</td></tr><tr><th>15</th><td>10_BS_1469/1298_E01470N3877E01631N3641-BS-M732_E01579N3692_D115_S157D10R270_A002108_S017</td></tr><tr><th>16</th><td>10_BS_1469/0188_E01267N3753E01646N3535-BS-M809_E01470N3715_D010_S292D50R090_A006995_S075</td></tr><tr><th>17</th><td>5_BS_1474/0085_E01470N3877E01631N3641-BS-M809_E01538N3782_D010_S067D30R270_A012497_S042</td></tr><tr><th>18</th><td>7_BS_1474/0701_E01267N3753E01646N3535-BS-M809_E01547N3670_D010_S112D30R090_A006995_S075</td></tr><tr><th>19</th><td>9_BS_1474/1153_E01267N3753E01646N3535-BS-M732_E01498N3715_D142_S112D30R270_A001180_S030</td></tr><tr><th>20</th><td>9_BS_1474/0351_E01267N3753E01646N3535-BS-M680_E01527N3715_D010_S247D30R270_A000357_S016</td></tr><tr><th>21</th><td>6_BS_1474/0025_E01522N3585E03578N2685-BS-M754_E01664N3535_D091_S067D50R270_A001972_S039</td></tr><tr><th>22</th><td>5_BS_1474/1048_E01267N3753E01646N3535-BS-M732_E01523N3692_D076_S247D50R270_A001180_S030</td></tr><tr><th>23</th><td>2_BS_1474/0989_E01267N3753E01646N3535-BS-M809_E01551N3692_D010_S157D70R090_A006995_S075</td></tr><tr><th>24</th><td>9_BS_1474/1068_E01380N4178E01687N3892-BS-M809_E01648N3917_D010_S337D50R090_A012497_S042</td></tr><tr><th>25</th><td>7_BS_1474/0606_E01267N3753E01646N3535-BS-M707_E01575N3670_D115_S067D30R090_A000668_S023</td></tr><tr><th>26</th><td>9_BS_1474/0565_E01522N3585E03578N2685-BS-M754_E01747N3535_D091_S247D50R270_A001972_S039</td></tr><tr><th>27</th><td>9_BS_1474/1110_E01522N3585E03578N2685-BS-M754_E02353N3310_D010_S202D70R090_A001972_S039</td></tr><tr><th>28</th><td>BS_1474/0827_E01446N4259E02038N3783-BS-M809_E01980N3850_D010_S157D50R270_A006995_S075</td></tr><tr><th>29</th><td>8_BS_1474/1144_E01470N3877E01631N3641-BS-M680_E01587N3737_D010_S112D50R270_A000638_S009</td></tr><tr><th>30</th><td>3_BS_1474/0781_E01267N3753E01646N3535-BS-M732_E01502N3737_D010_S292D30R270_A001180_S030</td></tr><tr><th>&vellip;</th><td>&vellip;</td></tr></tbody></table></div>"
      ],
      "text/latex": [
       "\\begin{tabular}{r|cc}\n",
       "\t& scenario & \\\\\n",
       "\t\\hline\n",
       "\t& String & \\\\\n",
       "\t\\hline\n",
       "\t1 & 9\\_BS\\_1474/0478\\_E01522N3585E03578N2685-BS-M774\\_E02353N3310\\_D010\\_S202D50R090\\_A003139\\_S050 & $\\dots$ \\\\\n",
       "\t2 & 4\\_BS\\_1474/0161\\_E01108N3882E01527N3690-BS-M774\\_E01506N3760\\_D010\\_S247D30R270\\_A005608\\_S028 & $\\dots$ \\\\\n",
       "\t3 & 3\\_BS\\_1474/1142\\_E01446N4259E02038N3783-BS-M774\\_E02009N3850\\_D107\\_S337D50R270\\_A003139\\_S050 & $\\dots$ \\\\\n",
       "\t4 & 4\\_BS\\_1474/0751\\_E01108N3882E01527N3690-BS-M754\\_E01509N3782\\_D010\\_S067D30R270\\_A003524\\_S022 & $\\dots$ \\\\\n",
       "\t5 & 10\\_BS\\_1469/0475\\_E01267N3753E01646N3535-BS-M809\\_E01491N3670\\_D010\\_S022D50R090\\_A006995\\_S075 & $\\dots$ \\\\\n",
       "\t6 & 5\\_BS\\_1474/0701\\_E01108N3882E01527N3690-BS-M774\\_E01477N3760\\_D010\\_S247D30R270\\_A005608\\_S028 & $\\dots$ \\\\\n",
       "\t7 & 3\\_BS\\_1474/0101\\_E01964N3926E02184N3685-BS-M707\\_E02022N3782\\_D010\\_S337D50R090\\_A001194\\_S013 & $\\dots$ \\\\\n",
       "\t8 & 7\\_BS\\_1474/0127\\_E01267N3753E01646N3535-BS-M732\\_E01523N3692\\_D076\\_S202D50R270\\_A001180\\_S030 & $\\dots$ \\\\\n",
       "\t9 & BS\\_1474/0288\\_E01267N3753E01646N3535-BS-M732\\_E01495N3692\\_D076\\_S067D50R090\\_A001180\\_S030 & $\\dots$ \\\\\n",
       "\t10 & BS\\_1474/0765\\_E01267N3753E01646N3535-BS-M754\\_E01495N3692\\_D010\\_S022D30R270\\_A001972\\_S039 & $\\dots$ \\\\\n",
       "\t11 & 7\\_BS\\_1474/0174\\_E01446N4259E02038N3783-BS-M707\\_E01980N3850\\_D062\\_S337D50R270\\_A000668\\_S023 & $\\dots$ \\\\\n",
       "\t12 & 5\\_BS\\_1474/0295\\_E01267N3753E01646N3535-BS-M754\\_E01495N3692\\_D172\\_S247D10R270\\_A001972\\_S039 & $\\dots$ \\\\\n",
       "\t13 & BS\\_1474/0201\\_E01267N3753E01646N3535-BS-M650\\_E01551N3692\\_D010\\_S202D30R090\\_A000178\\_S012 & $\\dots$ \\\\\n",
       "\t14 & 2\\_BS\\_1474/0410\\_E01267N3753E01646N3535-BS-M774\\_E01575N3670\\_D107\\_S022D50R270\\_A003139\\_S050 & $\\dots$ \\\\\n",
       "\t15 & 10\\_BS\\_1469/1298\\_E01470N3877E01631N3641-BS-M732\\_E01579N3692\\_D115\\_S157D10R270\\_A002108\\_S017 & $\\dots$ \\\\\n",
       "\t16 & 10\\_BS\\_1469/0188\\_E01267N3753E01646N3535-BS-M809\\_E01470N3715\\_D010\\_S292D50R090\\_A006995\\_S075 & $\\dots$ \\\\\n",
       "\t17 & 5\\_BS\\_1474/0085\\_E01470N3877E01631N3641-BS-M809\\_E01538N3782\\_D010\\_S067D30R270\\_A012497\\_S042 & $\\dots$ \\\\\n",
       "\t18 & 7\\_BS\\_1474/0701\\_E01267N3753E01646N3535-BS-M809\\_E01547N3670\\_D010\\_S112D30R090\\_A006995\\_S075 & $\\dots$ \\\\\n",
       "\t19 & 9\\_BS\\_1474/1153\\_E01267N3753E01646N3535-BS-M732\\_E01498N3715\\_D142\\_S112D30R270\\_A001180\\_S030 & $\\dots$ \\\\\n",
       "\t20 & 9\\_BS\\_1474/0351\\_E01267N3753E01646N3535-BS-M680\\_E01527N3715\\_D010\\_S247D30R270\\_A000357\\_S016 & $\\dots$ \\\\\n",
       "\t21 & 6\\_BS\\_1474/0025\\_E01522N3585E03578N2685-BS-M754\\_E01664N3535\\_D091\\_S067D50R270\\_A001972\\_S039 & $\\dots$ \\\\\n",
       "\t22 & 5\\_BS\\_1474/1048\\_E01267N3753E01646N3535-BS-M732\\_E01523N3692\\_D076\\_S247D50R270\\_A001180\\_S030 & $\\dots$ \\\\\n",
       "\t23 & 2\\_BS\\_1474/0989\\_E01267N3753E01646N3535-BS-M809\\_E01551N3692\\_D010\\_S157D70R090\\_A006995\\_S075 & $\\dots$ \\\\\n",
       "\t24 & 9\\_BS\\_1474/1068\\_E01380N4178E01687N3892-BS-M809\\_E01648N3917\\_D010\\_S337D50R090\\_A012497\\_S042 & $\\dots$ \\\\\n",
       "\t25 & 7\\_BS\\_1474/0606\\_E01267N3753E01646N3535-BS-M707\\_E01575N3670\\_D115\\_S067D30R090\\_A000668\\_S023 & $\\dots$ \\\\\n",
       "\t26 & 9\\_BS\\_1474/0565\\_E01522N3585E03578N2685-BS-M754\\_E01747N3535\\_D091\\_S247D50R270\\_A001972\\_S039 & $\\dots$ \\\\\n",
       "\t27 & 9\\_BS\\_1474/1110\\_E01522N3585E03578N2685-BS-M754\\_E02353N3310\\_D010\\_S202D70R090\\_A001972\\_S039 & $\\dots$ \\\\\n",
       "\t28 & BS\\_1474/0827\\_E01446N4259E02038N3783-BS-M809\\_E01980N3850\\_D010\\_S157D50R270\\_A006995\\_S075 & $\\dots$ \\\\\n",
       "\t29 & 8\\_BS\\_1474/1144\\_E01470N3877E01631N3641-BS-M680\\_E01587N3737\\_D010\\_S112D50R270\\_A000638\\_S009 & $\\dots$ \\\\\n",
       "\t30 & 3\\_BS\\_1474/0781\\_E01267N3753E01646N3535-BS-M732\\_E01502N3737\\_D010\\_S292D30R270\\_A001180\\_S030 & $\\dots$ \\\\\n",
       "\t$\\dots$ & $\\dots$ &  \\\\\n",
       "\\end{tabular}\n"
      ],
      "text/plain": [
       "\u001b[1m14733×5 DataFrame\u001b[0m\n",
       "\u001b[1m   Row \u001b[0m│\u001b[1m scenario                          \u001b[0m\u001b[1m max_flow_depth \u001b[0m\u001b[1m inundated_pixels \u001b[0m\u001b[1m \u001b[0m ⋯\n",
       "\u001b[1m       \u001b[0m│\u001b[90m String                            \u001b[0m\u001b[90m Float32        \u001b[0m\u001b[90m Float32          \u001b[0m\u001b[90m \u001b[0m ⋯\n",
       "───────┼────────────────────────────────────────────────────────────────────────\n",
       "     1 │ 9_BS_1474/0478_E01522N3585E03578…        2.53625             9275.0   ⋯\n",
       "     2 │ 4_BS_1474/0161_E01108N3882E01527…        3.73903            28480.0\n",
       "     3 │ 3_BS_1474/1142_E01446N4259E02038…        2.53238            14267.0\n",
       "     4 │ 4_BS_1474/0751_E01108N3882E01527…        1.8492              9314.0\n",
       "     5 │ 10_BS_1469/0475_E01267N3753E0164…       17.9271            265284.0   ⋯\n",
       "     6 │ 5_BS_1474/0701_E01108N3882E01527…        3.36707            21056.0\n",
       "     7 │ 3_BS_1474/0101_E01964N3926E02184…        0.657564            2878.0\n",
       "     8 │ 7_BS_1474/0127_E01267N3753E01646…        0.792533            4075.0\n",
       "     9 │ BS_1474/0288_E01267N3753E01646N3…        0.391897            1479.0   ⋯\n",
       "    10 │ BS_1474/0765_E01267N3753E01646N3…        0.79041             3391.0\n",
       "    11 │ 7_BS_1474/0174_E01446N4259E02038…        0.815352            3555.0\n",
       "   ⋮   │                 ⋮                        ⋮                ⋮           ⋱\n",
       " 14724 │ 2_BS_1474/0003_E01267N3753E01646…        1.25282             4579.0\n",
       " 14725 │ 7_BS_1474/1448_E01470N3877E01631…        5.53109            52484.0   ⋯\n",
       " 14726 │ 7_BS_1474/0120_E01267N3753E01646…       11.5726             47996.0\n",
       " 14727 │ 2_BS_1474/0232_E01267N3753E01646…        1.26418             3758.0\n",
       " 14728 │ BS_1474/0804_E01446N4259E02038N3…        4.11098            28299.0\n",
       " 14729 │ 10_BS_1469/1005_E01522N3585E0357…        3.23245            22505.0   ⋯\n",
       " 14730 │ 3_BS_1474/0922_E01267N3753E01646…        3.55431            20731.0\n",
       " 14731 │ 7_BS_1474/1357_E01267N3753E01646…        6.18446            75888.0\n",
       " 14732 │ 4_BS_1474/0045_E01470N3877E01631…        6.31673            52382.0\n",
       " 14733 │ 4_BS_1474/0446_E01267N3753E01646…       13.4879            356374.0   ⋯\n",
       "\u001b[36m                                                2 columns and 14712 rows omitted\u001b[0m"
      ]
     },
     "execution_count": 33,
     "metadata": {},
     "output_type": "execute_result"
    }
   ],
   "source": [
    "df = unique(df)"
   ]
  },
  {
   "cell_type": "code",
   "execution_count": 37,
   "id": "0d271127",
   "metadata": {},
   "outputs": [
    {
     "data": {
      "text/html": [
       "<div class=\"data-frame\"><p>8,295 rows × 5 columns (omitted printing of 4 columns)</p><table class=\"data-frame\"><thead><tr><th></th><th>scenario</th></tr><tr><th></th><th title=\"String\">String</th></tr></thead><tbody><tr><th>1</th><td>4_BS_1474/0161_E01108N3882E01527N3690-BS-M774_E01506N3760_D010_S247D30R270_A005608_S028</td></tr><tr><th>2</th><td>4_BS_1474/0751_E01108N3882E01527N3690-BS-M754_E01509N3782_D010_S067D30R270_A003524_S022</td></tr><tr><th>3</th><td>10_BS_1469/0475_E01267N3753E01646N3535-BS-M809_E01491N3670_D010_S022D50R090_A006995_S075</td></tr><tr><th>4</th><td>5_BS_1474/0701_E01108N3882E01527N3690-BS-M774_E01477N3760_D010_S247D30R270_A005608_S028</td></tr><tr><th>5</th><td>7_BS_1474/0127_E01267N3753E01646N3535-BS-M732_E01523N3692_D076_S202D50R270_A001180_S030</td></tr><tr><th>6</th><td>BS_1474/0288_E01267N3753E01646N3535-BS-M732_E01495N3692_D076_S067D50R090_A001180_S030</td></tr><tr><th>7</th><td>BS_1474/0765_E01267N3753E01646N3535-BS-M754_E01495N3692_D010_S022D30R270_A001972_S039</td></tr><tr><th>8</th><td>5_BS_1474/0295_E01267N3753E01646N3535-BS-M754_E01495N3692_D172_S247D10R270_A001972_S039</td></tr><tr><th>9</th><td>2_BS_1474/0410_E01267N3753E01646N3535-BS-M774_E01575N3670_D107_S022D50R270_A003139_S050</td></tr><tr><th>10</th><td>10_BS_1469/1298_E01470N3877E01631N3641-BS-M732_E01579N3692_D115_S157D10R270_A002108_S017</td></tr><tr><th>11</th><td>10_BS_1469/0188_E01267N3753E01646N3535-BS-M809_E01470N3715_D010_S292D50R090_A006995_S075</td></tr><tr><th>12</th><td>5_BS_1474/0085_E01470N3877E01631N3641-BS-M809_E01538N3782_D010_S067D30R270_A012497_S042</td></tr><tr><th>13</th><td>7_BS_1474/0701_E01267N3753E01646N3535-BS-M809_E01547N3670_D010_S112D30R090_A006995_S075</td></tr><tr><th>14</th><td>9_BS_1474/1153_E01267N3753E01646N3535-BS-M732_E01498N3715_D142_S112D30R270_A001180_S030</td></tr><tr><th>15</th><td>9_BS_1474/0351_E01267N3753E01646N3535-BS-M680_E01527N3715_D010_S247D30R270_A000357_S016</td></tr><tr><th>16</th><td>5_BS_1474/1048_E01267N3753E01646N3535-BS-M732_E01523N3692_D076_S247D50R270_A001180_S030</td></tr><tr><th>17</th><td>2_BS_1474/0989_E01267N3753E01646N3535-BS-M809_E01551N3692_D010_S157D70R090_A006995_S075</td></tr><tr><th>18</th><td>3_BS_1474/0781_E01267N3753E01646N3535-BS-M732_E01502N3737_D010_S292D30R270_A001180_S030</td></tr><tr><th>19</th><td>3_BS_1474/0881_E01470N3877E01631N3641-BS-M774_E01603N3670_D010_S337D50R270_A005608_S028</td></tr><tr><th>20</th><td>4_BS_1474/0251_E01267N3753E01646N3535-BS-M792_E01488N3647_D010_S067D50R270_A004781_S062</td></tr><tr><th>21</th><td>7_BS_1474/1201_E01470N3877E01631N3641-BS-M754_E01538N3782_D010_S022D50R090_A003524_S022</td></tr><tr><th>22</th><td>5_BS_1474/1125_E01267N3753E01646N3535-BS-M774_E01547N3670_D010_S337D30R090_A003139_S050</td></tr><tr><th>23</th><td>BS_1474/0326_E01470N3877E01631N3641-BS-M707_E01534N3760_D010_S247D50R090_A001194_S013</td></tr><tr><th>24</th><td>10_BS_1469/1264_E01108N3882E01527N3690-BS-M809_E01442N3715_D010_S067D30R270_A012497_S042</td></tr><tr><th>25</th><td>BS_1474/0730_E01267N3753E01646N3535-BS-M754_E01519N3670_D091_S202D70R090_A001972_S039</td></tr><tr><th>26</th><td>2_BS_1474/0011_E01267N3753E01646N3535-BS-M774_E01502N3737_D010_S292D50R090_A003139_S050</td></tr><tr><th>27</th><td>6_BS_1474/0116_E01267N3753E01646N3535-BS-M732_E01530N3737_D010_S067D50R270_A001180_S030</td></tr><tr><th>28</th><td>9_BS_1474/0561_E01267N3753E01646N3535-BS-M732_E01498N3715_D010_S067D10R270_A001180_S030</td></tr><tr><th>29</th><td>10_BS_1469/0297_E01267N3753E01646N3535-BS-M809_E01616N3580_D010_S292D50R270_A006995_S075</td></tr><tr><th>30</th><td>6_BS_1474/0908_E01267N3753E01646N3535-BS-M707_E01530N3737_D010_S202D30R090_A000668_S023</td></tr><tr><th>&vellip;</th><td>&vellip;</td></tr></tbody></table></div>"
      ],
      "text/latex": [
       "\\begin{tabular}{r|cc}\n",
       "\t& scenario & \\\\\n",
       "\t\\hline\n",
       "\t& String & \\\\\n",
       "\t\\hline\n",
       "\t1 & 4\\_BS\\_1474/0161\\_E01108N3882E01527N3690-BS-M774\\_E01506N3760\\_D010\\_S247D30R270\\_A005608\\_S028 & $\\dots$ \\\\\n",
       "\t2 & 4\\_BS\\_1474/0751\\_E01108N3882E01527N3690-BS-M754\\_E01509N3782\\_D010\\_S067D30R270\\_A003524\\_S022 & $\\dots$ \\\\\n",
       "\t3 & 10\\_BS\\_1469/0475\\_E01267N3753E01646N3535-BS-M809\\_E01491N3670\\_D010\\_S022D50R090\\_A006995\\_S075 & $\\dots$ \\\\\n",
       "\t4 & 5\\_BS\\_1474/0701\\_E01108N3882E01527N3690-BS-M774\\_E01477N3760\\_D010\\_S247D30R270\\_A005608\\_S028 & $\\dots$ \\\\\n",
       "\t5 & 7\\_BS\\_1474/0127\\_E01267N3753E01646N3535-BS-M732\\_E01523N3692\\_D076\\_S202D50R270\\_A001180\\_S030 & $\\dots$ \\\\\n",
       "\t6 & BS\\_1474/0288\\_E01267N3753E01646N3535-BS-M732\\_E01495N3692\\_D076\\_S067D50R090\\_A001180\\_S030 & $\\dots$ \\\\\n",
       "\t7 & BS\\_1474/0765\\_E01267N3753E01646N3535-BS-M754\\_E01495N3692\\_D010\\_S022D30R270\\_A001972\\_S039 & $\\dots$ \\\\\n",
       "\t8 & 5\\_BS\\_1474/0295\\_E01267N3753E01646N3535-BS-M754\\_E01495N3692\\_D172\\_S247D10R270\\_A001972\\_S039 & $\\dots$ \\\\\n",
       "\t9 & 2\\_BS\\_1474/0410\\_E01267N3753E01646N3535-BS-M774\\_E01575N3670\\_D107\\_S022D50R270\\_A003139\\_S050 & $\\dots$ \\\\\n",
       "\t10 & 10\\_BS\\_1469/1298\\_E01470N3877E01631N3641-BS-M732\\_E01579N3692\\_D115\\_S157D10R270\\_A002108\\_S017 & $\\dots$ \\\\\n",
       "\t11 & 10\\_BS\\_1469/0188\\_E01267N3753E01646N3535-BS-M809\\_E01470N3715\\_D010\\_S292D50R090\\_A006995\\_S075 & $\\dots$ \\\\\n",
       "\t12 & 5\\_BS\\_1474/0085\\_E01470N3877E01631N3641-BS-M809\\_E01538N3782\\_D010\\_S067D30R270\\_A012497\\_S042 & $\\dots$ \\\\\n",
       "\t13 & 7\\_BS\\_1474/0701\\_E01267N3753E01646N3535-BS-M809\\_E01547N3670\\_D010\\_S112D30R090\\_A006995\\_S075 & $\\dots$ \\\\\n",
       "\t14 & 9\\_BS\\_1474/1153\\_E01267N3753E01646N3535-BS-M732\\_E01498N3715\\_D142\\_S112D30R270\\_A001180\\_S030 & $\\dots$ \\\\\n",
       "\t15 & 9\\_BS\\_1474/0351\\_E01267N3753E01646N3535-BS-M680\\_E01527N3715\\_D010\\_S247D30R270\\_A000357\\_S016 & $\\dots$ \\\\\n",
       "\t16 & 5\\_BS\\_1474/1048\\_E01267N3753E01646N3535-BS-M732\\_E01523N3692\\_D076\\_S247D50R270\\_A001180\\_S030 & $\\dots$ \\\\\n",
       "\t17 & 2\\_BS\\_1474/0989\\_E01267N3753E01646N3535-BS-M809\\_E01551N3692\\_D010\\_S157D70R090\\_A006995\\_S075 & $\\dots$ \\\\\n",
       "\t18 & 3\\_BS\\_1474/0781\\_E01267N3753E01646N3535-BS-M732\\_E01502N3737\\_D010\\_S292D30R270\\_A001180\\_S030 & $\\dots$ \\\\\n",
       "\t19 & 3\\_BS\\_1474/0881\\_E01470N3877E01631N3641-BS-M774\\_E01603N3670\\_D010\\_S337D50R270\\_A005608\\_S028 & $\\dots$ \\\\\n",
       "\t20 & 4\\_BS\\_1474/0251\\_E01267N3753E01646N3535-BS-M792\\_E01488N3647\\_D010\\_S067D50R270\\_A004781\\_S062 & $\\dots$ \\\\\n",
       "\t21 & 7\\_BS\\_1474/1201\\_E01470N3877E01631N3641-BS-M754\\_E01538N3782\\_D010\\_S022D50R090\\_A003524\\_S022 & $\\dots$ \\\\\n",
       "\t22 & 5\\_BS\\_1474/1125\\_E01267N3753E01646N3535-BS-M774\\_E01547N3670\\_D010\\_S337D30R090\\_A003139\\_S050 & $\\dots$ \\\\\n",
       "\t23 & BS\\_1474/0326\\_E01470N3877E01631N3641-BS-M707\\_E01534N3760\\_D010\\_S247D50R090\\_A001194\\_S013 & $\\dots$ \\\\\n",
       "\t24 & 10\\_BS\\_1469/1264\\_E01108N3882E01527N3690-BS-M809\\_E01442N3715\\_D010\\_S067D30R270\\_A012497\\_S042 & $\\dots$ \\\\\n",
       "\t25 & BS\\_1474/0730\\_E01267N3753E01646N3535-BS-M754\\_E01519N3670\\_D091\\_S202D70R090\\_A001972\\_S039 & $\\dots$ \\\\\n",
       "\t26 & 2\\_BS\\_1474/0011\\_E01267N3753E01646N3535-BS-M774\\_E01502N3737\\_D010\\_S292D50R090\\_A003139\\_S050 & $\\dots$ \\\\\n",
       "\t27 & 6\\_BS\\_1474/0116\\_E01267N3753E01646N3535-BS-M732\\_E01530N3737\\_D010\\_S067D50R270\\_A001180\\_S030 & $\\dots$ \\\\\n",
       "\t28 & 9\\_BS\\_1474/0561\\_E01267N3753E01646N3535-BS-M732\\_E01498N3715\\_D010\\_S067D10R270\\_A001180\\_S030 & $\\dots$ \\\\\n",
       "\t29 & 10\\_BS\\_1469/0297\\_E01267N3753E01646N3535-BS-M809\\_E01616N3580\\_D010\\_S292D50R270\\_A006995\\_S075 & $\\dots$ \\\\\n",
       "\t30 & 6\\_BS\\_1474/0908\\_E01267N3753E01646N3535-BS-M707\\_E01530N3737\\_D010\\_S202D30R090\\_A000668\\_S023 & $\\dots$ \\\\\n",
       "\t$\\dots$ & $\\dots$ &  \\\\\n",
       "\\end{tabular}\n"
      ],
      "text/plain": [
       "\u001b[1m8295×5 DataFrame\u001b[0m\n",
       "\u001b[1m  Row \u001b[0m│\u001b[1m scenario                          \u001b[0m\u001b[1m max_flow_depth \u001b[0m\u001b[1m inundated_pixels \u001b[0m\u001b[1m m\u001b[0m ⋯\n",
       "\u001b[1m      \u001b[0m│\u001b[90m String                            \u001b[0m\u001b[90m Float32        \u001b[0m\u001b[90m Float32          \u001b[0m\u001b[90m F\u001b[0m ⋯\n",
       "──────┼─────────────────────────────────────────────────────────────────────────\n",
       "    1 │ 4_BS_1474/0161_E01108N3882E01527…        3.73903            28480.0  2 ⋯\n",
       "    2 │ 4_BS_1474/0751_E01108N3882E01527…        1.8492              9314.0  0\n",
       "    3 │ 10_BS_1469/0475_E01267N3753E0164…       17.9271            265284.0  4\n",
       "    4 │ 5_BS_1474/0701_E01108N3882E01527…        3.36707            21056.0  2\n",
       "    5 │ 7_BS_1474/0127_E01267N3753E01646…        0.792533            4075.0  0 ⋯\n",
       "    6 │ BS_1474/0288_E01267N3753E01646N3…        0.391897            1479.0  0\n",
       "    7 │ BS_1474/0765_E01267N3753E01646N3…        0.79041             3391.0  0\n",
       "    8 │ 5_BS_1474/0295_E01267N3753E01646…        1.42677             7077.0  0\n",
       "    9 │ 2_BS_1474/0410_E01267N3753E01646…        4.03039            29262.0  1 ⋯\n",
       "   10 │ 10_BS_1469/1298_E01470N3877E0163…        0.834627            4280.0  0\n",
       "   11 │ 10_BS_1469/0188_E01267N3753E0164…        5.58735            37037.0  2\n",
       "  ⋮   │                 ⋮                        ⋮                ⋮            ⋱\n",
       " 8286 │ 9_BS_1474/0860_E01267N3753E01646…        0.468024            2753.0  0\n",
       " 8287 │ BS_1474/0677_E01267N3753E01646N3…       10.741             485887.0  6 ⋯\n",
       " 8288 │ 8_BS_1474/0795_E01470N3877E01631…        4.88504            51005.0  2\n",
       " 8289 │ 7_BS_1474/1448_E01470N3877E01631…        5.53109            52484.0  2\n",
       " 8290 │ 7_BS_1474/0120_E01267N3753E01646…       11.5726             47996.0  5\n",
       " 8291 │ 2_BS_1474/0232_E01267N3753E01646…        1.26418             3758.0  0 ⋯\n",
       " 8292 │ 3_BS_1474/0922_E01267N3753E01646…        3.55431            20731.0  1\n",
       " 8293 │ 7_BS_1474/1357_E01267N3753E01646…        6.18446            75888.0  2\n",
       " 8294 │ 4_BS_1474/0045_E01470N3877E01631…        6.31673            52382.0  2\n",
       " 8295 │ 4_BS_1474/0446_E01267N3753E01646…       13.4879            356374.0  4 ⋯\n",
       "\u001b[36m                                                 2 columns and 8274 rows omitted\u001b[0m"
      ]
     },
     "execution_count": 37,
     "metadata": {},
     "output_type": "execute_result"
    }
   ],
   "source": [
    "# Select samples with small deformations:\n",
    "df_small = df[df.max_deformation .< 0.01,:]\n",
    "df_large = df[df.max_deformation .> 0.01,:]"
   ]
  },
  {
   "cell_type": "code",
   "execution_count": 38,
   "id": "b161202d",
   "metadata": {},
   "outputs": [
    {
     "data": {
      "text/plain": [
       "\"/home/ebr/projects/tsunami-inundation-emulator/article_data/BS_events/df_small.csv\""
      ]
     },
     "execution_count": 38,
     "metadata": {},
     "output_type": "execute_result"
    }
   ],
   "source": [
    "## Write files\n",
    "out_dir = \"/home/ebr/projects/tsunami-inundation-emulator/article_data/BS_events\"\n",
    "\n",
    "open(joinpath(out_dir,\"large_deformation.txt\"), \"w\") do file\n",
    "    for row in eachrow(df_large)\n",
    "        println(file, row.scenario)\n",
    "    end\n",
    "end\n",
    "\n",
    "CSV.write(joinpath(out_dir,\"df_large.csv\"), df_large)\n",
    "\n",
    "open(joinpath(out_dir,\"small_deformation.txt\"), \"w\") do file\n",
    "    for row in eachrow(df_small)\n",
    "        println(file, row.scenario)\n",
    "    end\n",
    "end\n",
    "\n",
    "CSV.write(joinpath(out_dir,\"df_small.csv\"), df_small)"
   ]
  },
  {
   "cell_type": "code",
   "execution_count": 39,
   "id": "04b9ec61",
   "metadata": {},
   "outputs": [
    {
     "data": {
      "text/plain": [
       "\"/home/ebr/projects/tsunami-inundation-emulator/article_data/BS_events/df.csv\""
      ]
     },
     "execution_count": 39,
     "metadata": {},
     "output_type": "execute_result"
    }
   ],
   "source": [
    "CSV.write(joinpath(out_dir, \"df.csv\"), df)"
   ]
  },
  {
   "cell_type": "markdown",
   "id": "550ccc77",
   "metadata": {},
   "source": [
    "julia --project make-model-summary.jl --scenarios /home/ebr/projects/tsunami-inundation-emulator/article_data/BS_events/small_deformation.txt --eval_dir evaluation/BS_events"
   ]
  },
  {
   "cell_type": "code",
   "execution_count": null,
   "id": "8f436ebe",
   "metadata": {},
   "outputs": [],
   "source": [
    "@df df corrplot([:max_eta :inundated_pixels])"
   ]
  },
  {
   "cell_type": "markdown",
   "id": "d776dbdb",
   "metadata": {},
   "source": [
    "# Select training set.\n",
    "\n",
    "This part of the notebook is used for creating training sets based on maximum amplitude of the incoming wave."
   ]
  },
  {
   "cell_type": "code",
   "execution_count": null,
   "id": "63dce5b2",
   "metadata": {},
   "outputs": [],
   "source": [
    "sort!(df, :max_eta);\n",
    "\n",
    "df.square_max_eta = abs2.(df.max_eta);\n",
    "\n",
    "nbins = 15\n",
    "max_samples_per_bin = 70\n",
    "\n",
    "h = fit(Histogram, df.square_max_eta, nbins=nbins)\n",
    "p = plot(h, label=\"Total\", xlabel=\"Max offshore wave amplitude\", ylabel=\"Nr. of scenarios\")"
   ]
  },
  {
   "cell_type": "code",
   "execution_count": null,
   "id": "d265f3e5",
   "metadata": {},
   "outputs": [],
   "source": [
    "h.weights"
   ]
  },
  {
   "cell_type": "code",
   "execution_count": null,
   "id": "9596cedf",
   "metadata": {},
   "outputs": [],
   "source": [
    "bounds = prepend!(cumsum(h.weights),1)"
   ]
  },
  {
   "cell_type": "code",
   "execution_count": null,
   "id": "b528f738",
   "metadata": {},
   "outputs": [],
   "source": [
    "df[!, :is_train] = falses(size(df)[1]);\n",
    "#df = df[shuffle(1:size(df, 1)),:] # Random selection\n",
    "\n",
    "bounds = prepend!(cumsum(h.weights),1)\n",
    "for i in 1:length(h.weights)\n",
    "    nr_of_samples = min(max_samples_per_bin, h.weights[i]+1)\n",
    "    println(\"Nr of samples: $nr_of_samples. Bounds: $(bounds[i]), $(bounds[i+1])\")\n",
    "    rows = sample(bounds[i]:bounds[i+1], nr_of_samples; replace = false, ordered = true)\n",
    "    println(\"Selected rows: $rows\")\n",
    "    df.is_train[rows] = trues(nr_of_samples)\n",
    "end"
   ]
  },
  {
   "cell_type": "code",
   "execution_count": null,
   "id": "0161c905",
   "metadata": {},
   "outputs": [],
   "source": [
    "sample(9:10, 2; replace = false, ordered = true)"
   ]
  },
  {
   "cell_type": "code",
   "execution_count": null,
   "id": "3e29cf49",
   "metadata": {},
   "outputs": [],
   "source": [
    "p = histogram!(p, df[df.is_train .== true,:max_eta], label=\"Train\")\n",
    "\n",
    "# Create output directory\n",
    "out_dir = \"article_data_X/train_$(sum(df.is_train .== true))\"\n",
    "println(out_dir)\n",
    "if !isdir(out_dir)\n",
    "    mkpath(out_dir)\n",
    "end\n",
    "\n",
    "savefig(p, joinpath(out_dir, \"total-train.svg\")) # saves the CURRENT_PLOT.\n",
    "display(p)"
   ]
  },
  {
   "cell_type": "code",
   "execution_count": null,
   "id": "c5e99484",
   "metadata": {},
   "outputs": [],
   "source": [
    "\n",
    "\n",
    "# Create plot\n",
    "h1 = histogram(df[df.is_train .== true,:].max_flow_depth; nbins=10, xlabel=\"Maximum inundation height\", normalize=:false)\n",
    "h2 = histogram(df[df.is_train .== true,:].inundated_pixels; nbins=10, xlabel=\"Number of inundated pixels\", normalize=:false)\n",
    "h3 = histogram(df[df.is_train .== true,:].max_eta; nbins=10, xlabel=\"Maximum amplitude\", normalize=:false)\n",
    "\n",
    "p = plot(h1, h2, h3, layout=(3, 1), legend=false)\n",
    "savefig(p, joinpath(out_dir, \"train_distribution.svg\")) # saves the CURRENT_PLOT.\n",
    "display(p)"
   ]
  },
  {
   "cell_type": "code",
   "execution_count": null,
   "id": "3f5120ca",
   "metadata": {},
   "outputs": [],
   "source": [
    "df_train = df[df.is_train .== true,:]\n",
    "df_remain = df[df.is_train .== false,:]\n",
    "\n",
    "df_train = df_train[shuffle(1:size(df_train, 1)),:]\n",
    "df_remain = df_remain[shuffle(1:size(df_remain, 1)),:]\n",
    "\n",
    "## Write files\n",
    "\n",
    "open(joinpath(out_dir,\"train.txt\"), \"w\") do file\n",
    "    for row in eachrow(df_train)\n",
    "        println(file, row.scenario)\n",
    "    end\n",
    "end\n",
    "\n",
    "CSV.write(joinpath(out_dir,\"df_train.csv\"), df_train)\n",
    "\n",
    "open(joinpath(out_dir,\"train_remain.txt\"), \"w\") do file\n",
    "    for row in eachrow(df_remain)\n",
    "        println(file, row.scenario)\n",
    "    end\n",
    "end\n",
    "\n",
    "CSV.write(joinpath(out_dir,\"df_remain.csv\"), df_remain)"
   ]
  },
  {
   "cell_type": "markdown",
   "id": "f57169e4",
   "metadata": {},
   "source": [
    "To save the notebook for later:\n",
    "```terminal\n",
    "jupyter nbconvert --to html create-model.ipynb\n",
    "```"
   ]
  },
  {
   "cell_type": "markdown",
   "id": "b183667a",
   "metadata": {},
   "source": [
    "## Load from file"
   ]
  },
  {
   "cell_type": "code",
   "execution_count": null,
   "id": "41e860ec",
   "metadata": {},
   "outputs": [],
   "source": [
    "# Read dataframes from file.\n",
    "dataset_dir = \"article_data/train_591\"\n",
    "\n",
    "df_train = CSV.read(joinpath(dataset_dir,\"df_train.csv\"), DataFrame)\n",
    "df_remain = CSV.read(joinpath(dataset_dir,\"df_remain.csv\"), DataFrame)\n",
    "\n",
    "df = vcat(df_train, df_remain)\n",
    "\n",
    "#df = CSV.read(joinpath(\"article_data_X\",\"df.csv\"), DataFrame)"
   ]
  },
  {
   "cell_type": "code",
   "execution_count": null,
   "id": "6e397362",
   "metadata": {},
   "outputs": [],
   "source": [
    "#CSV.write(joinpath(\"article_data_X\",\"df.csv\"), df)"
   ]
  },
  {
   "cell_type": "markdown",
   "id": "222277a4",
   "metadata": {},
   "source": [
    "## Make dataset distribution plot."
   ]
  },
  {
   "cell_type": "code",
   "execution_count": null,
   "id": "b0b898dc",
   "metadata": {},
   "outputs": [],
   "source": [
    "names(df)"
   ]
  },
  {
   "cell_type": "code",
   "execution_count": null,
   "id": "0d88e457",
   "metadata": {},
   "outputs": [],
   "source": [
    "theme(:default)\n",
    "p = @df df histogram(\n",
    "    :square_max_eta, \n",
    "    xlabel=\"Max offshore wave amplitude squared\",\n",
    "    ylabel=\"Nr. of scenarios\",\n",
    "    label=\"Basis\",\n",
    "    nbins=15,\n",
    "    alpha=0.8,\n",
    "    dpi=300,\n",
    "    ylim = (0.5,10000),\n",
    "    yaxis = :log10\n",
    ")\n",
    "\n",
    "@df df[df.is_train .== true,:] histogram!(p,\n",
    "    :square_max_eta,\n",
    "    label=\"Train\",\n",
    "    nbins=15,\n",
    "    yaxis = :log10,\n",
    "    ylim = (0.5,10000)\n",
    ")\n",
    "display(p)\n",
    "savefig(p, joinpath(dataset_dir,\"selection_by_bin.png\"))"
   ]
  },
  {
   "cell_type": "code",
   "execution_count": null,
   "id": "b51679a7",
   "metadata": {},
   "outputs": [],
   "source": [
    "scale = 3\n",
    "df.inundated_area =  map(x -> x*100/(1000*1000), df.inundated_pixels)\n",
    "df.inundated_area_scaled = df.inundated_area/scale\n",
    "\n",
    "cols = [:max_flow_depth, :max_eta, :inundated_area_scaled]\n",
    "df_stacked = stack(df[!, cols])\n",
    "df_train_stacked = stack(df[df.is_train .== true, cols])\n",
    "\n",
    "df_stacked[!,:is_train] .= \"Basis\"\n",
    "df_train_stacked[!, :is_train] .= \"Train\""
   ]
  },
  {
   "cell_type": "code",
   "execution_count": null,
   "id": "5a3da353",
   "metadata": {},
   "outputs": [],
   "source": [
    "df.inundated_area_scaled"
   ]
  },
  {
   "cell_type": "code",
   "execution_count": null,
   "id": "e116ba38",
   "metadata": {},
   "outputs": [],
   "source": [
    "df_stacked_wtrain = vcat(df_stacked, df_train_stacked)"
   ]
  },
  {
   "cell_type": "code",
   "execution_count": null,
   "id": "1638043b",
   "metadata": {},
   "outputs": [],
   "source": [
    "category_mapping = Dict(\n",
    "    \"max_flow_depth\" => \"Max flow depth\", \n",
    "    \"max_eta\" => \"Max wave amplitude\",\n",
    "    \"square_max_eta\" => \"Max wave amplitude squared\",\n",
    "    \"inundated_area_scaled\" => \"Inundated area\"\n",
    ")\n",
    "df_stacked_wtrain.map_variable = map(x -> category_mapping[x], df_stacked_wtrain.variable)"
   ]
  },
  {
   "cell_type": "code",
   "execution_count": null,
   "id": "b501eb25",
   "metadata": {},
   "outputs": [],
   "source": [
    "p = groupedboxplot(\n",
    "    df_stacked_wtrain.map_variable, \n",
    "    df_stacked_wtrain.value, \n",
    "    group = df_stacked_wtrain.is_train,\n",
    "    alpha=1.,\n",
    "    markersize=2.5,\n",
    "    legend=:top,\n",
    "    bar_width = 0.8,\n",
    "    ylabel=\"Meter\",\n",
    "    outliers=true,\n",
    "    right_margin=15Plots.mm,\n",
    "    dpi=300\n",
    ")\n",
    "\n",
    "plot!(twinx(p),\n",
    "    xticks=:none,\n",
    "    ylim=[-1,42.5],\n",
    "yticks = (yticks(p)[1][1]*scale, map(x -> string(x), yticks(p)[1][1]*scale)),\n",
    "    ylabel=\"Square kilometer\"\n",
    ")\n",
    "savefig(p, joinpath(dataset_dir,\"parameter_distibution_box.png\"))\n",
    "display(p)"
   ]
  },
  {
   "cell_type": "code",
   "execution_count": null,
   "id": "762b1c0e",
   "metadata": {},
   "outputs": [],
   "source": []
  }
 ],
 "metadata": {
  "kernelspec": {
   "display_name": "Julia 1.7.3",
   "language": "julia",
   "name": "julia-1.7"
  },
  "language_info": {
   "file_extension": ".jl",
   "mimetype": "application/julia",
   "name": "julia",
   "version": "1.7.3"
  }
 },
 "nbformat": 4,
 "nbformat_minor": 5
}
