{
 "cells": [
  {
   "cell_type": "code",
   "execution_count": null,
   "id": "5718d81a",
   "metadata": {},
   "outputs": [],
   "source": [
    "using Pkg\n",
    "Pkg.activate(\".\")"
   ]
  },
  {
   "cell_type": "code",
   "execution_count": null,
   "id": "9f5ec22e",
   "metadata": {},
   "outputs": [],
   "source": [
    "using Plots, DataFrames, CSV, DataStructures, Plots.PlotMeasures\n",
    "using Dates: format, now\n",
    "using Statistics, Random, StatsPlots, StatsBase, Measures\n",
    "gr()"
   ]
  },
  {
   "cell_type": "code",
   "execution_count": null,
   "id": "97a2511a",
   "metadata": {},
   "outputs": [],
   "source": [
    "out_dir = \"/home/ebr/projects/tsunami-inundation-emulator/figures\""
   ]
  },
  {
   "cell_type": "code",
   "execution_count": null,
   "id": "3089990c",
   "metadata": {},
   "outputs": [],
   "source": [
    "function make_norm_error_plot(suffix, rundir)\n",
    "    if rundir == \"\"\n",
    "        return plot(axis=([], false))\n",
    "    end\n",
    "    eval_train_dir = joinpath(rundir, \"evaluation\", \"train\")\n",
    "    eval_test_dir = joinpath(rundir, \"evaluation\", \"test\")\n",
    "    \n",
    "    # Load results\n",
    "    eval_test_df = CSV.File(joinpath(eval_test_dir, \"summary_results.txt\"); delim='\\t') |> DataFrame;\n",
    "    eval_train_df = CSV.File(joinpath(eval_train_dir, \"summary_results.txt\"); delim='\\t') |> DataFrame;\n",
    "    unique!(eval_test_df, :scenario)\n",
    "    unique!(eval_train_df, :scenario)\n",
    "        \n",
    "    eval_train_df[!, \"rel_error\"] = eval_train_df.l2_err./eval_train_df.l2_norm;\n",
    "    eval_test_df[!, \"rel_error\"] = eval_test_df.l2_err./eval_test_df.l2_norm;\n",
    "    \n",
    "    p = scatter(\n",
    "        eval_test_df.l2_norm, \n",
    "        eval_test_df.rel_error, \n",
    "        scale = :log10, \n",
    "        #xlabel=\"\\$\\\\ell^2\\$-norm\", \n",
    "        #ylabel=\"\\$\\\\ell^2\\$-error\", \n",
    "        label = \"Test\", \n",
    "        markershape=:circle,\n",
    "        markersize = 1.5,\n",
    "        markerstrokewidth = 0.1,\n",
    "        markerstrokealpha = 0.2,\n",
    "        alpha=0.3,\n",
    "        legend=:topleft,\n",
    "        #ylims=(1e-2,0),\n",
    "        xlims=(1e-3,0),\n",
    "        ylims=(2e-2,1e1),\n",
    "        \n",
    "        ticks=[1e-2,1e-1,1],\n",
    "        dpi=300,\n",
    "        aspect_ratio = .1,\n",
    "        gridlinewidth=2.,\n",
    "        gridlinealpha=1.,\n",
    "        minorgrid=true,\n",
    "        title = suffix\n",
    "    )\n",
    "    p = scatter!(\n",
    "        p,\n",
    "        eval_train_df.l2_norm, \n",
    "        eval_train_df.rel_error,\n",
    "        label = \"Train\",\n",
    "        alpha=0.7,\n",
    "        markershape=:diamond,\n",
    "        markersize = 3,\n",
    "        markerstrokewidth = 0.1,\n",
    "        markerstrokealpha = 0.2,\n",
    "    )\n",
    "\n",
    "    #plot!(p, [1e-3,1],[1e-3,1], linestyle=:dash, linewidth=3, linecolor=:grey, label=\"\")\n",
    "    plot!(p, [1e-3,1],[1,1], linestyle=:dash, linewidth=3, linecolor=:grey, label=\"\")\n",
    "    #savefig(p, joinpath(out_dir, \"norm_error\"*suffix*\".png\"))\n",
    "    #display(p)\n",
    "    return p\n",
    "end"
   ]
  },
  {
   "cell_type": "code",
   "execution_count": null,
   "id": "c4c30460",
   "metadata": {},
   "outputs": [],
   "source": [
    "make_norm_error_plot(\"suffix\",  \"/home/ebr/projects/tsunami-inundation-emulator/article_runs/t591/mc8_l8_rel/\")"
   ]
  },
  {
   "cell_type": "code",
   "execution_count": null,
   "id": "d94227cb",
   "metadata": {},
   "outputs": [],
   "source": [
    "function make_plots(rundirs, nx, ny, filename)\n",
    "    plots, titles = [], []\n",
    "    for (suffix, rundir) in rundirs\n",
    "        println(\"suffix: \"*suffix*\" rundir: \"*rundir)\n",
    "        push!(plots, make_norm_error_plot(suffix, rundir))\n",
    "        push!(titles, suffix)\n",
    "    end\n",
    "    \n",
    "    p = plot(\n",
    "        plots..., \n",
    "        #title = reshape(titles, 1, length(titles)), \n",
    "        titlelocation = :left,\n",
    "        layout= grid(ny,nx), \n",
    "        #left_margin = [10mm 0mm], \n",
    "        #top_margin = -30mm,\n",
    "        legend=false, \n",
    "        size = (nx*400, ny*400),\n",
    "        dpi = 600,\n",
    "    )\n",
    "    savefig(p, joinpath(out_dir, filename))\n",
    "end"
   ]
  },
  {
   "cell_type": "code",
   "execution_count": null,
   "id": "591d6cdd",
   "metadata": {},
   "outputs": [],
   "source": [
    "rundirs =  OrderedDict(\n",
    "    # mc8_l2_rel\n",
    "    \"t164_mc8_l2_rel\" => \"/home/ebr/projects/tsunami-inundation-emulator/article_runs/t164/mc8_l2_rel/\",\n",
    "    \"t295_mc8_l2_rel\" => \"/home/ebr/projects/tsunami-inundation-emulator/article_runs/t295/mc8_l2_rel/\",\n",
    "    \"t591_mc8_l2_rel\" => \"/home/ebr/projects/tsunami-inundation-emulator/article_runs/t591/mc8_l2_rel/\",\n",
    "    #\"t1831_mc8_l2_rel\" => \"\",\n",
    "    \n",
    "    # mc8_l4_rel\n",
    "    \"t164_mc8_l4_rel\" => \"/home/ebr/projects/tsunami-inundation-emulator/article_runs/t164/mc8_l4_rel/\",\n",
    "    \"t295_mc8_l4_rel\" => \"/home/ebr/projects/tsunami-inundation-emulator/article_runs/t295/mc8_l4_rel/\",\n",
    "    \"t591_mc8_l4_rel\" => \"/home/ebr/projects/tsunami-inundation-emulator/article_runs/t591/mc8_l4_rel/\",\n",
    "    #\"t1831_mc8_l4_rel\" => \"\",\n",
    ")"
   ]
  },
  {
   "cell_type": "code",
   "execution_count": null,
   "id": "101389fa",
   "metadata": {},
   "outputs": [],
   "source": [
    "make_plots(rundirs, 3, 2, \"norm_error_low_latent.png\")"
   ]
  },
  {
   "cell_type": "code",
   "execution_count": null,
   "id": "3fc1bbfd",
   "metadata": {},
   "outputs": [],
   "source": [
    "rundirs =  OrderedDict(\n",
    "    # mc8_l8\n",
    "    \"t164_mc8_l8\" => \"/home/ebr/projects/tsunami-inundation-emulator/article_runs/t164/mc8_l8/\",\n",
    "    \"t295_mc8_l8\" => \"/home/ebr/projects/tsunami-inundation-emulator/article_runs/t295/mc8_l8/\",\n",
    "    \"t591_mc8_l8\" => \"/home/ebr/projects/tsunami-inundation-emulator/article_runs/t591/mc8_l8/\",\n",
    "    \"t1831_mc8_l8\" => \"/home/ebr/projects/tsunami-inundation-emulator/article_runs/t1831/mc8_l8/\",\n",
    "    \n",
    "    # mc8_l8_rel\n",
    "    \"t164_mc8_l8_rel\" => \"/home/ebr/projects/tsunami-inundation-emulator/article_runs/t164/mc8_l8_rel/\",\n",
    "    \"t295_mc8_l8_rel\" => \"/home/ebr/projects/tsunami-inundation-emulator/article_runs/t295/mc8_l8_rel/\",\n",
    "    \"t591_mc8_l8_rel\" => \"/home/ebr/projects/tsunami-inundation-emulator/article_runs/t591/mc8_l8_rel/\",\n",
    "    \"t1831_mc8_l8_rel\" => \"/home/ebr/projects/tsunami-inundation-emulator/article_runs/t1831/mc8_l8_rel/\",\n",
    ")"
   ]
  },
  {
   "cell_type": "code",
   "execution_count": null,
   "id": "7027a7e2",
   "metadata": {},
   "outputs": [],
   "source": [
    "make_plots(rundirs, 4, 2, \"norm_error_l8.png\")"
   ]
  },
  {
   "cell_type": "code",
   "execution_count": null,
   "id": "4f7f9afd",
   "metadata": {},
   "outputs": [],
   "source": [
    "rundirs =  OrderedDict(\n",
    "    # mc32_l16\n",
    "    \"t164_mc32_l16\" => \"/home/ebr/projects/tsunami-inundation-emulator/article_runs/t164/mc32_l16/\",\n",
    "    \"t295_mc32_l16\" => \"/home/ebr/projects/tsunami-inundation-emulator/article_runs/t295/mc32_l16/\",\n",
    "    \"t591_mc32_l16\" => \"/home/ebr/projects/tsunami-inundation-emulator/article_runs/t591/mc32_l16/\",\n",
    "    \"t1831_mc32_l16\" => \"/home/ebr/projects/tsunami-inundation-emulator/article_runs/t1831/mc32_l16/\",\n",
    "    \n",
    "    # mc32_l16_rel\n",
    "    \"t164_mc32_l16_rel\" => \"/home/ebr/projects/tsunami-inundation-emulator/article_runs/t164/mc32_l16_rel/\",\n",
    "    \"t295_mc32_l16_rel\" => \"/home/ebr/projects/tsunami-inundation-emulator/article_runs/t295/mc32_l16_rel/\",\n",
    "    \"t591_mc32_l16_rel\" => \"/home/ebr/projects/tsunami-inundation-emulator/article_runs/t591/mc32_l16_rel/\",\n",
    "    \"t1831_mc32_l16_rel\" => \"/home/ebr/projects/tsunami-inundation-emulator/article_runs/t1831/mc32_l16_rel/\",\n",
    "    \n",
    "    # mc32_l16_rel_reg\n",
    "    \"t164_mc32_l16_rel_reg\" => \"/home/ebr/projects/tsunami-inundation-emulator/article_runs/t164/mc32_l16_rel_reg/\",\n",
    "    \"t295_mc32_l16_rel_reg\" => \"/home/ebr/projects/tsunami-inundation-emulator/article_runs/t295/mc32_l16_rel_reg/\",\n",
    "    \"t591_mc32_l16_rel_reg\" => \"/home/ebr/projects/tsunami-inundation-emulator/article_runs/t591/mc32_l16_rel_reg/\",\n",
    "    \"t1831_mc32_l16_rel_reg\" => \"/home/ebr/projects/tsunami-inundation-emulator/article_runs/t1831/mc32_l16_rel_reg/\",\n",
    "    \n",
    "    # mc32X_l16_rel\n",
    "    \"t164_mc32X_l16_rel\" => \"/home/ebr/projects/tsunami-inundation-emulator/article_runs/t164/mc32X_l16_rel/\",\n",
    "    \"t295_mc32X_l16_rel\" => \"/home/ebr/projects/tsunami-inundation-emulator/article_runs/t295/mc32X_l16_rel/\",\n",
    "    \"t591_mc32X_l16_rel\" => \"/home/ebr/projects/tsunami-inundation-emulator/article_runs/t591/mc32X_l16_rel/\",\n",
    "    \"t1831_mc32X_l16_rel\" => \"\",\n",
    "    \n",
    "    # mc32_l16_rel_reg\n",
    "    \"t164_mc32X_l16_rel_reg\" => \"/home/ebr/projects/tsunami-inundation-emulator/article_runs/t164/mc32X_l16_rel_reg/\",\n",
    "    \"t295_mc32X_l16_rel_reg\" => \"/home/ebr/projects/tsunami-inundation-emulator/article_runs/t295/mc32X_l16_rel_reg/\",\n",
    "    \"t591_mc32X_l16_rel_reg\" => \"\",\n",
    "    \"t1831_mc32X_l16_rel_reg\" => \"\",\n",
    ")"
   ]
  },
  {
   "cell_type": "code",
   "execution_count": null,
   "id": "61c32b02",
   "metadata": {},
   "outputs": [],
   "source": [
    "make_plots(rundirs, 4, 5, \"norm_error_l16.png\")"
   ]
  },
  {
   "cell_type": "code",
   "execution_count": null,
   "id": "1cdbde91",
   "metadata": {},
   "outputs": [],
   "source": [
    "rundirs =  OrderedDict(\n",
    "    # mc8_l8_rel\n",
    "    \"t286_mc8_l8_rel\" => \"/home/ebr/projects/tsunami-inundation-emulator/article_runs_X/t286/mc8_l8_rel/\",\n",
    "    \"t457_mc8_l8_rel\" => \"/home/ebr/projects/tsunami-inundation-emulator/article_runs_X/t457/mc8_l8_rel/\",\n",
    "    \"t856_mc8_l8_rel\" => \"/home/ebr/projects/tsunami-inundation-emulator/article_runs_X/t856/mc8_l8_rel/\",\n",
    "   \n",
    "    # mc8_l8_rel_reg\n",
    "    \"t286_mc8_l8_rel_reg\" => \"/home/ebr/projects/tsunami-inundation-emulator/article_runs_X/t286/mc8_l8_rel_reg/\",\n",
    "    \"t457_mc8_l8_rel_reg\" => \"/home/ebr/projects/tsunami-inundation-emulator/article_runs_X/t457/mc8_l8_rel_reg/\",\n",
    "    \"t856_mc8_l8_rel_reg\" => \"/home/ebr/projects/tsunami-inundation-emulator/article_runs_X/t856/mc8_l8_rel_reg/\",\n",
    ")"
   ]
  },
  {
   "cell_type": "code",
   "execution_count": null,
   "id": "cde2727d",
   "metadata": {},
   "outputs": [],
   "source": [
    "rundirs =  OrderedDict(\n",
    "    # mc8_l4_rel\n",
    "    \"t196_mc8_l4_rel\" => \"/home/ebr/projects/tsunami-inundation-emulator/article_runs_Y/t196/mc8_l4_rel/\",\n",
    "    \"t295_mc8_l4_rel\" => \"/home/ebr/projects/tsunami-inundation-emulator/article_runs_Y/t295/mc8_l4_rel/\",\n",
    "    \"t591_mc8_l4_rel\" => \"/home/ebr/projects/tsunami-inundation-emulator/article_runs_Y/t591/mc8_l4_rel/\",\n",
    "    \n",
    "    # mc8_l8_rel\n",
    "    \"t196_mc8_l8_rel\" => \"/home/ebr/projects/tsunami-inundation-emulator/article_runs_Y/t196/mc8_l8_rel/\",\n",
    "    \"t295_mc8_l8_rel\" => \"/home/ebr/projects/tsunami-inundation-emulator/article_runs_Y/t295/mc8_l8_rel/\",\n",
    "    \"t591_mc8_l8_rel\" => \"/home/ebr/projects/tsunami-inundation-emulator/article_runs_Y/t591/mc8_l8_rel/\",\n",
    "    \n",
    "     # mc32_l16_rel\n",
    "    \"t196_mc32_l16_rel\" => \"/home/ebr/projects/tsunami-inundation-emulator/article_runs_Y/t196/mc32_l16_rel/\",\n",
    "    \"t295_mc32_l16_rel\" => \"/home/ebr/projects/tsunami-inundation-emulator/article_runs_Y/t295/mc32_l16_rel/\",\n",
    "    \"t591_mc32_l16_rel\" => \"/home/ebr/projects/tsunami-inundation-emulator/article_runs_Y/t591/mc32_l16_rel/\",\n",
    ")"
   ]
  },
  {
   "cell_type": "code",
   "execution_count": null,
   "id": "f96291c0",
   "metadata": {},
   "outputs": [],
   "source": [
    "make_plots(rundirs, 3, 3, \"norm_error_runs_Y.png\")"
   ]
  },
  {
   "cell_type": "code",
   "execution_count": null,
   "id": "4c6bfe41",
   "metadata": {},
   "outputs": [],
   "source": []
  }
 ],
 "metadata": {
  "kernelspec": {
   "display_name": "Julia 1.7.3",
   "language": "julia",
   "name": "julia-1.7"
  },
  "language_info": {
   "file_extension": ".jl",
   "mimetype": "application/julia",
   "name": "julia",
   "version": "1.7.3"
  }
 },
 "nbformat": 4,
 "nbformat_minor": 5
}
