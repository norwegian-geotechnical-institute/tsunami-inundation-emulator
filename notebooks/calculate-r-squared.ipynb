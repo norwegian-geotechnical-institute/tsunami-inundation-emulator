{
 "cells": [
  {
   "cell_type": "code",
   "execution_count": null,
   "id": "96ee07aa",
   "metadata": {},
   "outputs": [],
   "source": [
    "using NCDatasets, Flux, Distributed, DataFrames, CSV, StatsPlots\n",
    "using Statistics: mean \n",
    "#Random, StatsBase\n",
    "#import YAML\n",
    "using DelimitedFiles: readdlm\n",
    "\n",
    "using Measures, Plots"
   ]
  },
  {
   "cell_type": "code",
   "execution_count": null,
   "id": "408bd1e5",
   "metadata": {},
   "outputs": [],
   "source": [
    "gr()"
   ]
  },
  {
   "cell_type": "code",
   "execution_count": null,
   "id": "9fe88b3c",
   "metadata": {},
   "outputs": [],
   "source": [
    "addprocs(3; exeflags=\"--project\")"
   ]
  },
  {
   "cell_type": "code",
   "execution_count": null,
   "id": "2c2b5723",
   "metadata": {},
   "outputs": [],
   "source": [
    "@everywhere begin\n",
    "    cd(\"/home/ebr/projects/tsunami-inundation-emulator/article_runs_X/t457/mc8_l8_rel\")\n",
    "end"
   ]
  },
  {
   "cell_type": "code",
   "execution_count": null,
   "id": "8e0f96ac",
   "metadata": {},
   "outputs": [],
   "source": [
    "pwd()"
   ]
  },
  {
   "cell_type": "code",
   "execution_count": null,
   "id": "2707aaf0",
   "metadata": {},
   "outputs": [],
   "source": [
    "readdir()"
   ]
  },
  {
   "cell_type": "code",
   "execution_count": null,
   "id": "3e44d2c2",
   "metadata": {},
   "outputs": [],
   "source": [
    "@everywhere begin\n",
    "    using Logging\n",
    "    global_logger(SimpleLogger(stdout, Logging.Info))\n",
    "    include(\"datareader.jl\")\n",
    "    include(\"model_config.jl\")\n",
    "    config = DataReader.parse_config(\"config.yml\")\n",
    "\n",
    "    # Set here\n",
    "    config[\"gpu\"] = false\n",
    "    config[\"batch_size\"] = 10\n",
    "end"
   ]
  },
  {
   "cell_type": "code",
   "execution_count": null,
   "id": "1589f841",
   "metadata": {},
   "outputs": [],
   "source": [
    "# Load mask\n",
    "const ct_mask = BitArray(readdlm(\"ct_mask.txt\", '\\t',Bool, '\\n'));"
   ]
  },
  {
   "cell_type": "code",
   "execution_count": null,
   "id": "fee8b4e5",
   "metadata": {},
   "outputs": [],
   "source": [
    "sum(ct_mask)"
   ]
  },
  {
   "cell_type": "code",
   "execution_count": null,
   "id": "7934a3d3",
   "metadata": {},
   "outputs": [],
   "source": [
    "dataset = config[\"train_data\"]\n",
    "eval_dir = joinpath(config[\"rundir\"], \"evaluation\", \"train\")"
   ]
  },
  {
   "cell_type": "code",
   "execution_count": null,
   "id": "13bb271a",
   "metadata": {},
   "outputs": [],
   "source": [
    "# Load model\n",
    "model = ModelConfig.load(joinpath(config[\"rundir\"],\"$(config[\"model_name\"]).jls\"))\n",
    "Flux.reset!(model)"
   ]
  },
  {
   "cell_type": "code",
   "execution_count": null,
   "id": "d3c4159d",
   "metadata": {},
   "outputs": [],
   "source": [
    "# Load batches on workers.\n",
    "@everywhere begin\n",
    "    reader = DataReader.Reader(config)\n",
    "end\n",
    "batches = RemoteChannel(()->Channel(4))\n",
    "scenarios = DataReader.scenarios(dataset)\n",
    "\n",
    "for worker in workers()\n",
    "    remote_do(reader, worker, scenarios, batches)\n",
    "end\n",
    "\n",
    "nr_of_batches = ceil(countlines(dataset)/config[\"batch_size\"])"
   ]
  },
  {
   "cell_type": "code",
   "execution_count": null,
   "id": "1f2f3823",
   "metadata": {},
   "outputs": [],
   "source": [
    "@info \"First pass. Computing mean and hits.\"\n",
    "mean_target = zeros(Float32, sum(ct_mask))\n",
    "count_hits = zeros(Int32, sum(ct_mask))\n",
    "\n",
    "for batch_nr in 1:nr_of_batches\n",
    "    batch = take!(batches)\n",
    "\n",
    "    @info \"Batch: $batch_nr\"\n",
    "    hit = sum(batch.flow_depths[ct_mask,1,:] .> 0., dims=2)\n",
    "    target = batch.flow_depths[ct_mask,1,:]\n",
    "    preds = relu(model(batch.etas) - batch.deformed_topographies[ct_mask,1,:])\n",
    "\n",
    "    mean_target = mean(target, dims=2)/batch_nr .+ mean_target*((batch_nr - 1)/batch_nr)\n",
    "    count_hits = count_hits .+ hit\n",
    "end"
   ]
  },
  {
   "cell_type": "code",
   "execution_count": null,
   "id": "3ae759be",
   "metadata": {},
   "outputs": [],
   "source": [
    "hit_map = zeros(Float32, config[\"dims\"]);\n",
    "#fill!(rsquared_map,NaN)\n",
    "hit_map[ct_mask] = count_hits\n",
    "\n",
    "heatmap(\n",
    "    hit_map[:,:]'; \n",
    "    aspect_ratio=1., \n",
    "    xlim=(1,config[\"dims\"][1]), \n",
    "    ylim=(1,config[\"dims\"][2]),\n",
    "    #clim=(0,1),\n",
    "    #c = cgrad([:red, :orange, :green], [0.5, 0.95, 0.98]),\n",
    "    margins = 3mm\n",
    ")"
   ]
  },
  {
   "cell_type": "code",
   "execution_count": null,
   "id": "c8348bf2",
   "metadata": {},
   "outputs": [],
   "source": [
    "@info \"Second pass. Computing R-squared.\"\n",
    "mean_residual_squares = zeros(Float32, sum(ct_mask))\n",
    "mean_total_squares = zeros(Float32, sum(ct_mask))\n",
    "\n",
    "for batch_nr in 1:nr_of_batches\n",
    "    batch = take!(batches)\n",
    "\n",
    "    @info \"Batch: $batch_nr\"\n",
    "    \n",
    "    target = batch.flow_depths[ct_mask,1,:]\n",
    "    preds = relu(model(batch.etas) - batch.deformed_topographies[ct_mask,1,:])\n",
    "    \n",
    "    residual_square = (target-preds).^2\n",
    "    total_square = (target-mean_target*ones(config[\"batch_size\"])').^2\n",
    "\n",
    "    mean_residual_squares = mean(residual_square, dims=2)/batch_nr .+ mean_residual_squares*((batch_nr - 1)/batch_nr)\n",
    "    mean_total_squares = mean(total_square, dims=2)/batch_nr .+ mean_total_squares*((batch_nr - 1)/batch_nr)\n",
    "end"
   ]
  },
  {
   "cell_type": "code",
   "execution_count": null,
   "id": "631419ad",
   "metadata": {},
   "outputs": [],
   "source": [
    "rsquared = 1 .- mean_residual_squares./mean_total_squares"
   ]
  },
  {
   "cell_type": "code",
   "execution_count": null,
   "id": "8d791831",
   "metadata": {},
   "outputs": [],
   "source": [
    "rsquared_map = zeros(Float32, config[\"dims\"]);\n",
    "fill!(rsquared_map,NaN)\n",
    "rsquared_map[ct_mask] = rsquared"
   ]
  },
  {
   "cell_type": "code",
   "execution_count": null,
   "id": "81102f4b",
   "metadata": {},
   "outputs": [],
   "source": [
    "heatmap(\n",
    "    rsquared_map'; \n",
    "    aspect_ratio=1., \n",
    "    xlim=(1,config[\"dims\"][1]), \n",
    "    ylim=(1,config[\"dims\"][2]),\n",
    "    clim=(0,1),\n",
    "    c = cgrad([:red, :orange, :green], [0.5, 0.95, 0.98]),\n",
    "    margins = 3mm\n",
    ")"
   ]
  },
  {
   "cell_type": "code",
   "execution_count": null,
   "id": "268cfbf0",
   "metadata": {},
   "outputs": [],
   "source": [
    "eval_dir"
   ]
  },
  {
   "cell_type": "code",
   "execution_count": null,
   "id": "4a53dbe7",
   "metadata": {},
   "outputs": [],
   "source": [
    "# write to file.\n",
    "Dataset(joinpath(eval_dir,\"r_squared.nc\"),\"c\") do ds\n",
    "\tdefDim(ds,\"x\",config[\"dims\"][1])\n",
    "\tdefDim(ds,\"y\",config[\"dims\"][2])\n",
    "\tr = defVar(ds,\"r-squared\", Float32,(\"x\",\"y\"))\n",
    "\tr[:,:] = rsquared_map\n",
    "end"
   ]
  },
  {
   "cell_type": "markdown",
   "id": "14b63e84",
   "metadata": {},
   "source": [
    "# Plot R-squared agains hits."
   ]
  },
  {
   "cell_type": "code",
   "execution_count": null,
   "id": "bac83073",
   "metadata": {},
   "outputs": [],
   "source": [
    "# Read from file\n",
    "model_folder = \"/mnt/NGI_disks/ebr/P/2022/01/20220127/Calculations/AP3/models/tsunami-inundation-emulator/article_runs/t591/mc8_l8_rel\"\n",
    "\n",
    "ds_test = NCDataset(joinpath(model_folder, \"evaluation/test\", \"r_squared.nc\"),\"r\")\n",
    "ds_train = NCDataset(joinpath(model_folder, \"evaluation/train\", \"r_squared.nc\"),\"r\")\n",
    "\n",
    "r_square_test = ds_test[\"r-squared\"];\n",
    "hits_train = ds_train[\"hit-count\"];\n",
    "hits_test = ds_test[\"hit-count\"];"
   ]
  },
  {
   "cell_type": "code",
   "execution_count": null,
   "id": "9829645c",
   "metadata": {},
   "outputs": [],
   "source": [
    "p1 = heatmap(\n",
    "    r_square_test[:,:]'; \n",
    "    aspect_ratio=1., \n",
    "    xlim=(1,config[\"dims\"][1]), \n",
    "    ylim=(1,config[\"dims\"][2]),\n",
    "    clim=(0,1),\n",
    "    c = cgrad([:red, :orange, :green], [0.5, 0.95, 0.98]),\n",
    "    margins = 3mm\n",
    ")\n",
    "\n",
    "p2 = heatmap(\n",
    "    hits_train[:,:]'; \n",
    "    aspect_ratio=1., \n",
    "    xlim=(1,config[\"dims\"][1]), \n",
    "    ylim=(1,config[\"dims\"][2]),\n",
    "    margins = 3mm\n",
    ")\n",
    "plot(\n",
    "    p1, p2,\n",
    "    layout = (1,2),\n",
    ")"
   ]
  },
  {
   "cell_type": "code",
   "execution_count": null,
   "id": "9ccf1ea6",
   "metadata": {},
   "outputs": [],
   "source": [
    "df = DataFrame(:hits_train => hits_train[ct_mask], :hits_test => hits_test[ct_mask], :r2 => r_square_test[ct_mask]);\n",
    "df_filtered = filter(row -> row.hits_test > 5 && row.r2 > -0.2, df);"
   ]
  },
  {
   "cell_type": "code",
   "execution_count": null,
   "id": "a77e4980",
   "metadata": {},
   "outputs": [],
   "source": [
    "@df df_filtered histogram2d( \n",
    "    :r2,\n",
    "    :hits_train,\n",
    "    bins=(30,30),\n",
    "    show_empty_bins=false,\n",
    "    color=cgrad(:amp, 16, categorical=true),\n",
    "    xlims=(-0.2,1.),\n",
    "    ylims=(0,600),\n",
    "    alpha=0.8,    \n",
    "    xlabel=\"\\$r^2\\$ on test data\",\n",
    "    ylabel=\"Number of training scenarios which inundates pixel\",\n",
    "    #dpi=300,\n",
    "    labelfontsize = 9,\n",
    "    aspect_ratio = 1.5/300,\n",
    "    gridlinewidth=2.,\n",
    "    gridlinealpha=1.,\n",
    "    minorgrid=true,\n",
    "    gridstyle=:dash,\n",
    "    xrotation = 90,\n",
    "    colorbar_title = \"\\n Number of pixels on map (colour)\",\n",
    "    colorbar_titlefontsize = 9,\n",
    "    tickfontsize = 7\n",
    ")"
   ]
  },
  {
   "cell_type": "code",
   "execution_count": null,
   "id": "c884be42",
   "metadata": {},
   "outputs": [],
   "source": [
    "@df df_filtered histogram2d( \n",
    "    :hits_train,\n",
    "    :r2,\n",
    "    bins=(30,30),\n",
    "    show_empty_bins=false,\n",
    "    color=cgrad(:amp, 16, categorical=true),\n",
    "    ylims=(-0.2,1.),\n",
    "    xlims=(0,600),\n",
    "    alpha=0.8,    \n",
    "    ylabel=\"R-squared\",\n",
    "    xlabel=\"Hits in training set.\",\n",
    "    #dpi=300,\n",
    "    #aspect_ratio = 1.5/300,\n",
    "    gridlinewidth=2.,\n",
    "    gridlinealpha=1.,\n",
    "    minorgrid=true,\n",
    "    gridstyle=:dash\n",
    ")"
   ]
  },
  {
   "cell_type": "code",
   "execution_count": null,
   "id": "c9d0613e",
   "metadata": {},
   "outputs": [],
   "source": [
    "savefig(joinpath(model_folder, \"evaluation/test-train\", \"R2_hits_hist_transpose.pdf\"))"
   ]
  },
  {
   "cell_type": "code",
   "execution_count": null,
   "id": "e8deb8d6",
   "metadata": {},
   "outputs": [],
   "source": [
    "@df df_filtered[1:5000,:] scatter(\n",
    "    :hits, \n",
    "    :r2,\n",
    "    #scale = :log10, \n",
    "    xlabel=\"R-squared\", \n",
    "    ylabel=\"Nonzero flowdepths\", \n",
    "    #label = \"Test\", \n",
    "    markershape=:circle,\n",
    "    markersize = 1.5,\n",
    "    alpha=0.1,\n",
    "    #legend=:topleft,\n",
    "    ylims=(-1,1),\n",
    "    #xlims=(1e-3,0),\n",
    "    #ticks=[1e-2,1e-1,1],\n",
    "    dpi=300,\n",
    ")"
   ]
  },
  {
   "cell_type": "code",
   "execution_count": null,
   "id": "d1d502f6",
   "metadata": {},
   "outputs": [],
   "source": []
  }
 ],
 "metadata": {
  "kernelspec": {
   "display_name": "Julia 1.7.3",
   "language": "julia",
   "name": "julia-1.7"
  },
  "language_info": {
   "file_extension": ".jl",
   "mimetype": "application/julia",
   "name": "julia",
   "version": "1.7.3"
  }
 },
 "nbformat": 4,
 "nbformat_minor": 5
}
