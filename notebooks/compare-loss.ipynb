{
 "cells": [
  {
   "cell_type": "code",
   "execution_count": null,
   "id": "77a869aa",
   "metadata": {},
   "outputs": [],
   "source": [
    "using Pkg\n",
    "Pkg.activate(\".\")"
   ]
  },
  {
   "cell_type": "code",
   "execution_count": null,
   "id": "de3ba5b9",
   "metadata": {},
   "outputs": [],
   "source": [
    "using Plots, DelimitedFiles, Distributed, DataFrames, CSV\n",
    "using Statistics, Random, StatsPlots, StatsBase, Measures\n",
    "\n",
    "gr(fmt =:png)\n",
    "theme(:ggplot2)\n",
    "default(fmt = :png)"
   ]
  },
  {
   "cell_type": "code",
   "execution_count": null,
   "id": "ab387537",
   "metadata": {},
   "outputs": [],
   "source": [
    "# Create readers for data loading.\n",
    "include(\"datareader.jl\")\n",
    "\n",
    "rundir_rel = \"/home/ebr/projects/tsunami-inundation-emulator/article_runs_X/t286/mc8_l8_rel/\"\n",
    "rundir = \"/home/ebr/projects/tsunami-inundation-emulator/article_runs_X/t286/mc8_l8_rel_reg/\"\n",
    "eval_dir_rel = joinpath(rundir_rel, \"evaluation\", \"test\")\n",
    "eval_dir = joinpath(rundir, \"evaluation\", \"test\")\n",
    "\n",
    "out_dir = \"/home/ebr/projects/tsunami-inundation-emulator/article_runs/figures\"\n"
   ]
  },
  {
   "cell_type": "code",
   "execution_count": null,
   "id": "b610d62f",
   "metadata": {},
   "outputs": [],
   "source": [
    "aida_rel_df = CSV.File(joinpath(eval_dir_rel, \"summary_by_class.txt\"); delim='\\t', missingstring=\"missing\") |> DataFrame;\n",
    "aida_df = CSV.File(joinpath(eval_dir, \"summary_by_class.txt\"); delim='\\t', missingstring=\"missing\") |> DataFrame;"
   ]
  },
  {
   "cell_type": "code",
   "execution_count": null,
   "id": "d24307dd",
   "metadata": {},
   "outputs": [],
   "source": [
    "names(aida_df)"
   ]
  },
  {
   "cell_type": "code",
   "execution_count": null,
   "id": "012da3d7",
   "metadata": {},
   "outputs": [],
   "source": [
    "aida_rel_df[!, :loss] .= \"\\$\\\\mathcal{L}_+\\$\";\n",
    "aida_df[!, :loss] .= \"\\$\\\\mathcal{L}\\$\";\n",
    "\n",
    "df = vcat(aida_rel_df, aida_df, cols = :union)"
   ]
  },
  {
   "cell_type": "code",
   "execution_count": null,
   "id": "1b703b15",
   "metadata": {},
   "outputs": [],
   "source": [
    "df = df[df.nr_of_samples_res .> 100,:]\n",
    "df[!,:mean_res] = convert.(Float32,df[!, :mean_res])\n",
    "\n",
    "p = groupedboxplot(\n",
    "    df.class,\n",
    "    df.mean_res,\n",
    "    group = df.loss,\n",
    "    bar_width = 0.8,\n",
    "    outliers = false,\n",
    "    xlabel = \"Depth class\",\n",
    "    ylabel = \"Mean residual\",\n",
    "    legend=:topleft\n",
    ")\n",
    "\n",
    "plot!(p, [0,4.5],[0,0], linestyle=:dash, linewidth=3, linecolor=:grey, label=\"\")\n",
    "\n",
    "savefig(p, joinpath(out_dir, \"mean_res_by_loss.png\"))\n",
    "display(p)"
   ]
  },
  {
   "cell_type": "code",
   "execution_count": null,
   "id": "385802c8",
   "metadata": {},
   "outputs": [],
   "source": [
    "df = df[df.nr_of_samples_res .> 100,:]\n",
    "df[!,:std_res] = convert.(Float32,df[!, :std_res])\n",
    "\n",
    "p = groupedboxplot(\n",
    "    df.class,\n",
    "    df.std_res,\n",
    "    group = df.loss,\n",
    "    bar_width = 0.8,\n",
    "    outliers = false,\n",
    "    xlabel = \"Depth class\",\n",
    "    ylabel = \"Std\",\n",
    "    legend=:topleft\n",
    ")\n",
    "\n",
    "plot!(p, [0,4.5],[0,0], linestyle=:dash, linewidth=3, linecolor=:grey, label=\"\")\n",
    "\n",
    "savefig(p, joinpath(out_dir, \"mean_res_by_loss.png\"))\n",
    "display(p)"
   ]
  },
  {
   "cell_type": "code",
   "execution_count": null,
   "id": "95341d6f",
   "metadata": {},
   "outputs": [],
   "source": []
  }
 ],
 "metadata": {
  "kernelspec": {
   "display_name": "Julia 1.7.3",
   "language": "julia",
   "name": "julia-1.7"
  },
  "language_info": {
   "file_extension": ".jl",
   "mimetype": "application/julia",
   "name": "julia",
   "version": "1.7.3"
  }
 },
 "nbformat": 4,
 "nbformat_minor": 5
}
